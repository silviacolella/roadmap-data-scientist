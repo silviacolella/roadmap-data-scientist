{
  "nbformat": 4,
  "nbformat_minor": 5,
  "metadata": {
    "kernelspec": {
      "name": "python3",
      "display_name": "Python 3.7.4 64-bit ('ca': conda)"
    },
    "language_info": {
      "codemirror_mode": {
        "name": "ipython",
        "version": 3
      },
      "file_extension": ".py",
      "mimetype": "text/x-python",
      "name": "python",
      "nbconvert_exporter": "python",
      "pygments_lexer": "ipython3",
      "version": "3.7.4"
    },
    "interpreter": {
      "hash": "a8a2603f7411f79fa153a383cff30d6f334887d2fda24e108c053f8858d6066a"
    },
    "colab": {
      "name": "python_basic.ipynb",
      "provenance": []
    }
  },
  "cells": [
    {
      "cell_type": "markdown",
      "metadata": {
        "id": "RmDDUTzJ0fuU"
      },
      "source": [
        "# This is a basic python test for DS mentoring"
      ],
      "id": "RmDDUTzJ0fuU"
    },
    {
      "cell_type": "code",
      "metadata": {
        "id": "pXiNFSSk0ful"
      },
      "source": [
        "import numpy as np"
      ],
      "id": "pXiNFSSk0ful",
      "execution_count": 1,
      "outputs": []
    },
    {
      "cell_type": "markdown",
      "metadata": {
        "id": "IWozrXnT0fuu"
      },
      "source": [
        "# Structures"
      ],
      "id": "IWozrXnT0fuu"
    },
    {
      "cell_type": "markdown",
      "metadata": {
        "id": "FBTf9HxW0fuy"
      },
      "source": [
        "## List"
      ],
      "id": "FBTf9HxW0fuy"
    },
    {
      "cell_type": "markdown",
      "metadata": {
        "id": "S2m_3roB0fu2"
      },
      "source": [
        "### Create list\n",
        "There are two very well-known ways of creating a list"
      ],
      "id": "S2m_3roB0fu2"
    },
    {
      "cell_type": "code",
      "metadata": {
        "colab": {
          "base_uri": "https://localhost:8080/"
        },
        "id": "SAz2iPZn0fu5",
        "outputId": "9db534cc-f560-4dfa-d71f-42be96082390"
      },
      "source": [
        "a = []\n",
        "for i in range(10):\n",
        "    a.append(i)\n",
        "print(a)"
      ],
      "id": "SAz2iPZn0fu5",
      "execution_count": 2,
      "outputs": [
        {
          "output_type": "stream",
          "name": "stdout",
          "text": [
            "[0, 1, 2, 3, 4, 5, 6, 7, 8, 9]\n"
          ]
        }
      ]
    },
    {
      "cell_type": "markdown",
      "metadata": {
        "id": "6o5Gu3EY0fu-"
      },
      "source": [
        "### List Comprehension"
      ],
      "id": "6o5Gu3EY0fu-"
    },
    {
      "cell_type": "code",
      "metadata": {
        "colab": {
          "base_uri": "https://localhost:8080/"
        },
        "id": "6K8CZKMn0fvC",
        "outputId": "5841e352-55a6-4c0c-eb9e-b519c33a24b7"
      },
      "source": [
        "a = [i for i in range(10)]\n",
        "print(a)"
      ],
      "id": "6K8CZKMn0fvC",
      "execution_count": 3,
      "outputs": [
        {
          "output_type": "stream",
          "name": "stdout",
          "text": [
            "[0, 1, 2, 3, 4, 5, 6, 7, 8, 9]\n"
          ]
        }
      ]
    },
    {
      "cell_type": "code",
      "metadata": {
        "colab": {
          "base_uri": "https://localhost:8080/"
        },
        "id": "bhgWiMIW0fvF",
        "outputId": "e459994a-8b36-417c-8ceb-f0982117bada"
      },
      "source": [
        "m_list = ['r', 'i', 'c', 'a', 'r', 'd', 'o']\n",
        "new_list = []\n",
        "for k,i in enumerate(m_list):\n",
        "    new_list.append(str(k)+i)\n",
        "print(new_list)"
      ],
      "id": "bhgWiMIW0fvF",
      "execution_count": 4,
      "outputs": [
        {
          "output_type": "stream",
          "name": "stdout",
          "text": [
            "['0r', '1i', '2c', '3a', '4r', '5d', '6o']\n"
          ]
        }
      ]
    },
    {
      "cell_type": "markdown",
      "metadata": {
        "id": "mC_6CQmx0fvN"
      },
      "source": [
        "\n",
        "- Explain what enumerate method does in code above\n",
        "     - it returns a tuple for each item of the list which contains the count starting by 0 and the item itself.\n",
        "- Try to do the same but using list comprehension:"
      ],
      "id": "mC_6CQmx0fvN"
    },
    {
      "cell_type": "code",
      "metadata": {
        "colab": {
          "base_uri": "https://localhost:8080/"
        },
        "id": "pDyAqzBA0fvV",
        "outputId": "f726dd66-504f-49fa-afd3-a5e903e7bb71"
      },
      "source": [
        "# implement list comprehension\n",
        "n_list = [str(k)+i for k,i in enumerate(m_list)]\n",
        "n_list"
      ],
      "id": "pDyAqzBA0fvV",
      "execution_count": 7,
      "outputs": [
        {
          "output_type": "execute_result",
          "data": {
            "text/plain": [
              "['0r', '1i', '2c', '3a', '4r', '5d', '6o']"
            ]
          },
          "metadata": {},
          "execution_count": 7
        }
      ]
    },
    {
      "cell_type": "markdown",
      "metadata": {
        "id": "t9XrJq9l0fvW"
      },
      "source": [
        "## Tuples"
      ],
      "id": "t9XrJq9l0fvW"
    },
    {
      "cell_type": "code",
      "metadata": {
        "colab": {
          "base_uri": "https://localhost:8080/"
        },
        "id": "8JyktGVN0fvX",
        "outputId": "8631d7c7-556c-4d97-c974-f19c8aaa1eba"
      },
      "source": [
        "b = tuple(a)\n",
        "print(b)"
      ],
      "id": "8JyktGVN0fvX",
      "execution_count": 8,
      "outputs": [
        {
          "output_type": "stream",
          "name": "stdout",
          "text": [
            "(0, 1, 2, 3, 4, 5, 6, 7, 8, 9)\n"
          ]
        }
      ]
    },
    {
      "cell_type": "markdown",
      "metadata": {
        "id": "1xYfdUNq0fvY"
      },
      "source": [
        "### What is the principal difference between lists and tuples? \n",
        "      - Lists can be updated, tuples cannot."
      ],
      "id": "1xYfdUNq0fvY"
    },
    {
      "cell_type": "markdown",
      "metadata": {
        "id": "DdoOu8N50fvb"
      },
      "source": [
        "## Dict"
      ],
      "id": "DdoOu8N50fvb"
    },
    {
      "cell_type": "code",
      "metadata": {
        "colab": {
          "base_uri": "https://localhost:8080/"
        },
        "id": "oW1kaMaw0fvb",
        "outputId": "69777fbd-8379-46c2-b39d-888cb8a1f8bd"
      },
      "source": [
        "car = {\n",
        "  \"brand\": \"Ford\",\n",
        "  \"model\": \"Mustang\",\n",
        "  \"year\": 1964\n",
        "}\n",
        "\n",
        "x = car.get(\"model\")\n",
        "\n",
        "print(x)"
      ],
      "id": "oW1kaMaw0fvb",
      "execution_count": 9,
      "outputs": [
        {
          "output_type": "stream",
          "name": "stdout",
          "text": [
            "Mustang\n"
          ]
        }
      ]
    },
    {
      "cell_type": "markdown",
      "metadata": {
        "id": "-9v7UVqV0fvd"
      },
      "source": [
        "### If the key does not exit, how can get a default value for instance: False ?"
      ],
      "id": "-9v7UVqV0fvd"
    },
    {
      "cell_type": "markdown",
      "metadata": {
        "id": "TqoW602p0fvg"
      },
      "source": [
        "# Conditionals"
      ],
      "id": "TqoW602p0fvg"
    },
    {
      "cell_type": "code",
      "metadata": {
        "colab": {
          "base_uri": "https://localhost:8080/"
        },
        "id": "WA3Win_M0fvh",
        "outputId": "4ca45e14-5ade-4afc-d08a-0fa98dba853b"
      },
      "source": [
        "x = 10\n",
        "if x % 2 == 0:\n",
        "    print(\"par\")\n",
        "else:\n",
        "    print(\"impar\")"
      ],
      "id": "WA3Win_M0fvh",
      "execution_count": 10,
      "outputs": [
        {
          "output_type": "stream",
          "name": "stdout",
          "text": [
            "par\n"
          ]
        }
      ]
    },
    {
      "cell_type": "markdown",
      "metadata": {
        "id": "I58opF890fvk"
      },
      "source": [
        "### How can we change the conditionals above to conditional expression? (ternário)"
      ],
      "id": "I58opF890fvk"
    },
    {
      "cell_type": "markdown",
      "metadata": {
        "id": "wNvLVvxy0fvn"
      },
      "source": [
        "# Functions"
      ],
      "id": "wNvLVvxy0fvn"
    },
    {
      "cell_type": "markdown",
      "metadata": {
        "id": "wiCuPuwb0fvn"
      },
      "source": [
        "Create a basis functions for calculate the average from array"
      ],
      "id": "wiCuPuwb0fvn"
    },
    {
      "cell_type": "code",
      "metadata": {
        "colab": {
          "base_uri": "https://localhost:8080/"
        },
        "id": "E9kKECuf0fvp",
        "outputId": "8d740c77-4c99-453d-b311-56f15884d521"
      },
      "source": [
        "data = np.array([13, 63, 5, 378, 58, 40])\n",
        "\n",
        "def average(my_array):\n",
        "  return sum(data)/len(data)\n",
        "\n",
        "average(data)"
      ],
      "id": "E9kKECuf0fvp",
      "execution_count": 11,
      "outputs": [
        {
          "output_type": "execute_result",
          "data": {
            "text/plain": [
              "92.83333333333333"
            ]
          },
          "metadata": {},
          "execution_count": 11
        }
      ]
    },
    {
      "cell_type": "markdown",
      "metadata": {
        "id": "Xx03usuQ0fvr"
      },
      "source": [
        "# Classes"
      ],
      "id": "Xx03usuQ0fvr"
    },
    {
      "cell_type": "markdown",
      "metadata": {
        "id": "xQ1tnEnX0fvy"
      },
      "source": [
        "Define class MyAvg, create two variables: id (shared), d is init variable and avg method"
      ],
      "id": "xQ1tnEnX0fvy"
    },
    {
      "cell_type": "code",
      "metadata": {
        "id": "jkX5el350fv1"
      },
      "source": [
        "class MyAvg:\n",
        "    \n",
        "    def __init__(self,data):\n",
        "        self.id = self        # init variable asocciated two all instances \n",
        "        self.d = data\n",
        "\n",
        "    def avg(self): # method for estimating the average\n",
        "        return sum(self.d)/len(self.d)"
      ],
      "id": "jkX5el350fv1",
      "execution_count": 12,
      "outputs": []
    },
    {
      "cell_type": "markdown",
      "metadata": {
        "id": "V4g36qCg0fv3"
      },
      "source": [
        "a and b are instances of MyAvg class. To instantiate a class is to initialize it by calling the init method:"
      ],
      "id": "V4g36qCg0fv3"
    },
    {
      "cell_type": "code",
      "metadata": {
        "id": "ZqKMQQWh0fv3"
      },
      "source": [
        "# Object b should have 2*data as init variable\n",
        "a = MyAvg(data)\n",
        "b = MyAvg(2*data)"
      ],
      "id": "ZqKMQQWh0fv3",
      "execution_count": 14,
      "outputs": []
    },
    {
      "cell_type": "markdown",
      "metadata": {
        "id": "wfEJDfGn0fv4"
      },
      "source": [
        "# Class Inheritance"
      ],
      "id": "wfEJDfGn0fv4"
    },
    {
      "cell_type": "code",
      "metadata": {
        "id": "SR1Dsy5i0fv4"
      },
      "source": [
        "\n",
        "class MyAvgStd(MyAvg):\n",
        "    def var(self): # method for estimating variance\n",
        "        u = self.avg()\n",
        "        return np.sqrt(np.sum((self.d - u)**2)/len(self.d))"
      ],
      "id": "SR1Dsy5i0fv4",
      "execution_count": 15,
      "outputs": []
    },
    {
      "cell_type": "markdown",
      "metadata": {
        "id": "qm1UaHCW0fv5"
      },
      "source": [
        "Instantiate object c with class MyAvgStd, get and print avg and var output methods"
      ],
      "id": "qm1UaHCW0fv5"
    },
    {
      "cell_type": "code",
      "metadata": {
        "colab": {
          "base_uri": "https://localhost:8080/"
        },
        "id": "TiUVDo5q0fv8",
        "outputId": "9df16106-66ef-489f-d6a5-09375488d35d"
      },
      "source": [
        "c = MyAvgStd(data)\n",
        "print(c.avg())\n",
        "print(c.var())"
      ],
      "id": "TiUVDo5q0fv8",
      "execution_count": 17,
      "outputs": [
        {
          "output_type": "stream",
          "name": "stdout",
          "text": [
            "92.83333333333333\n",
            "129.294775180163\n"
          ]
        }
      ]
    },
    {
      "cell_type": "markdown",
      "metadata": {
        "id": "4tAsP01e0fv8"
      },
      "source": [
        "# Callable Object"
      ],
      "id": "4tAsP01e0fv8"
    },
    {
      "cell_type": "markdown",
      "metadata": {
        "id": "oDPjj8H40fv-"
      },
      "source": [
        "Example"
      ],
      "id": "oDPjj8H40fv-"
    },
    {
      "cell_type": "code",
      "metadata": {
        "id": "_m3QK1mD0fwB"
      },
      "source": [
        "class Scale():\n",
        "    def __init__(self, w):\n",
        "        self._w = w\n",
        "    def __call__(self, x):\n",
        "        return x * self._w"
      ],
      "id": "_m3QK1mD0fwB",
      "execution_count": 18,
      "outputs": []
    },
    {
      "cell_type": "code",
      "metadata": {
        "colab": {
          "base_uri": "https://localhost:8080/"
        },
        "id": "HTAFN5W-0fwE",
        "outputId": "c9e23f33-aa3f-42e3-f650-ca9cac952bd6"
      },
      "source": [
        "s = Scale(100.)\n",
        "print(s(5))"
      ],
      "id": "HTAFN5W-0fwE",
      "execution_count": 19,
      "outputs": [
        {
          "output_type": "stream",
          "name": "stdout",
          "text": [
            "500.0\n"
          ]
        }
      ]
    },
    {
      "cell_type": "markdown",
      "metadata": {
        "id": "HBUg3YtA0fwG"
      },
      "source": [
        "Exercise: Define an inheritance class of Scale class that allows to modify the variable self._w"
      ],
      "id": "HBUg3YtA0fwG"
    },
    {
      "cell_type": "code",
      "metadata": {
        "id": "KDWNveMl0fwI"
      },
      "source": [
        "class TuneWeights(Scale):\n",
        "    def wset(self, new_value):\n",
        "        self._w = new_value"
      ],
      "id": "KDWNveMl0fwI",
      "execution_count": 23,
      "outputs": []
    },
    {
      "cell_type": "code",
      "metadata": {
        "colab": {
          "base_uri": "https://localhost:8080/"
        },
        "id": "KqbpHlf-0fwK",
        "outputId": "53546113-e2ef-4b7f-fc47-886f5a3fabef"
      },
      "source": [
        "ap = TuneWeights(100.)\n",
        "print(ap(5))"
      ],
      "id": "KqbpHlf-0fwK",
      "execution_count": 24,
      "outputs": [
        {
          "output_type": "stream",
          "name": "stdout",
          "text": [
            "500.0\n"
          ]
        }
      ]
    },
    {
      "cell_type": "code",
      "metadata": {
        "colab": {
          "base_uri": "https://localhost:8080/"
        },
        "id": "eWa0yI4zCRlw",
        "outputId": "9c7ffea4-60c1-476e-c160-62e63b91aa45"
      },
      "source": [
        "ap.wset(200)\n",
        "print(ap(5))"
      ],
      "id": "eWa0yI4zCRlw",
      "execution_count": 25,
      "outputs": [
        {
          "output_type": "stream",
          "name": "stdout",
          "text": [
            "1000\n"
          ]
        }
      ]
    }
  ]
}